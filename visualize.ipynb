{
 "cells": [
  {
   "cell_type": "code",
   "execution_count": 24,
   "metadata": {},
   "outputs": [],
   "source": [
    "import openmeteo_requests\n",
    "\n",
    "import requests_cache\n",
    "from retry_requests import retry\n",
    "import polars as pl\n",
    "from datetime import date, timedelta"
   ]
  },
  {
   "cell_type": "code",
   "execution_count": 11,
   "metadata": {},
   "outputs": [],
   "source": [
    "# Setup the Open-Meteo API client with cache and retry on error\n",
    "cache_session = requests_cache.CachedSession('.cache', expire_after = -1)\n",
    "retry_session = retry(cache_session, retries = 5, backoff_factor = 0.2)\n",
    "openmeteo = openmeteo_requests.Client(session = retry_session)\n",
    "\n",
    "# Make sure all required weather variables are listed here\n",
    "# The order of variables in hourly or daily is important to assign them correctly below\n",
    "url = \"https://archive-api.open-meteo.com/v1/archive\"\n",
    "params = {\n",
    "    # Lat and lon for O'Hare\n",
    "\t\"latitude\": 41.978611,\n",
    "\t\"longitude\": -87.904724,\n",
    "\t\"start_date\": \"2025-01-01\",\n",
    "\t\"end_date\": \"2025-03-29\",\n",
    "\t\"daily\": [\"temperature_2m_mean\", \"temperature_2m_max\", \"temperature_2m_min\", \"rain_sum\", \"snowfall_sum\", \"weather_code\"],\n",
    "\t\"timezone\": \"America/Chicago\"\n",
    "}\n",
    "\n",
    "responses = openmeteo.weather_api(url, params=params)"
   ]
  },
  {
   "cell_type": "code",
   "execution_count": null,
   "metadata": {},
   "outputs": [],
   "source": [
    "# Process first location. Add a for-loop for multiple locations or weather models\n",
    "response = responses[0]\n",
    "\n",
    "# Process daily data\n",
    "daily = response.Daily()\n",
    "daily_temperature_2m_mean = daily.Variables(0).ValuesAsNumpy()\n",
    "daily_temperature_2m_max = daily.Variables(1).ValuesAsNumpy()\n",
    "daily_temperature_2m_min = daily.Variables(2).ValuesAsNumpy()\n",
    "daily_rain_sum = daily.Variables(3).ValuesAsNumpy()\n",
    "daily_snowfall_sum = daily.Variables(4).ValuesAsNumpy()\n",
    "daily_weather_code = daily.Variables(5).ValuesAsNumpy()\n",
    "\n",
    "daily_data = {\"date\": pl.date_range(\n",
    "\tstart=date(2025, 1, 1),\n",
    "\tend=date(2025, 3, 29),\n",
    "\tinterval=timedelta(days=1),\n",
    "\tclosed=\"left\",\n",
    "    eager=True\n",
    ")}"
   ]
  },
  {
   "cell_type": "code",
   "execution_count": 27,
   "metadata": {},
   "outputs": [
    {
     "data": {
      "text/plain": [
       "{'date': shape: (87,)\n",
       " Series: 'literal' [date]\n",
       " [\n",
       " \t2025-01-01\n",
       " \t2025-01-02\n",
       " \t2025-01-03\n",
       " \t2025-01-04\n",
       " \t2025-01-05\n",
       " \t…\n",
       " \t2025-03-24\n",
       " \t2025-03-25\n",
       " \t2025-03-26\n",
       " \t2025-03-27\n",
       " \t2025-03-28\n",
       " ]}"
      ]
     },
     "execution_count": 27,
     "metadata": {},
     "output_type": "execute_result"
    }
   ],
   "source": [
    "daily_data"
   ]
  }
 ],
 "metadata": {
  "kernelspec": {
   "display_name": "Python 3",
   "language": "python",
   "name": "python3"
  },
  "language_info": {
   "codemirror_mode": {
    "name": "ipython",
    "version": 3
   },
   "file_extension": ".py",
   "mimetype": "text/x-python",
   "name": "python",
   "nbconvert_exporter": "python",
   "pygments_lexer": "ipython3",
   "version": "3.9.13"
  }
 },
 "nbformat": 4,
 "nbformat_minor": 2
}
